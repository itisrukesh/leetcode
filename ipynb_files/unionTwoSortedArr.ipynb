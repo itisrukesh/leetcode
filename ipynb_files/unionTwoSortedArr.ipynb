{
 "cells": [
  {
   "cell_type": "code",
   "execution_count": 9,
   "id": "b151acfe",
   "metadata": {},
   "outputs": [],
   "source": [
    "def unionArray(nums1, nums2):\n",
    "        i = 0\n",
    "        j = 0\n",
    "        arr = []\n",
    "        \n",
    "        while i < len(nums1) and j < len(nums2):\n",
    "            if nums1[i] < nums2[j]:\n",
    "                if len(arr) == 0 or arr[-1] != nums1[i]:\n",
    "                    arr.append(nums1[i])\n",
    "                i+=1\n",
    "            elif nums2[j] < nums1[i]:\n",
    "                if len(arr) == 0 or arr[-1] != nums2[j]:\n",
    "                    arr.append(nums2[j])\n",
    "                j+=1\n",
    "            else:\n",
    "                if len(arr) == 0 or arr[-1] != nums1[i]:\n",
    "                    arr.append(nums1[i])\n",
    "                i+=1\n",
    "                j+=1\n",
    "                    \n",
    "        while i< len(nums1):\n",
    "            if len(arr) == 0 or arr[-1] != nums1[i]:\n",
    "                arr.append(nums1[i])\n",
    "            i+=1\n",
    "        \n",
    "        while j < len(nums2):\n",
    "            if len(arr) == 0 or arr[-1] != nums2[j]:\n",
    "                arr.append(nums2[j])\n",
    "            j+=1\n",
    "                \n",
    "        return arr\n",
    "    \n",
    "nums1 = [1, 2, 3, 4, 5]\n",
    "nums2 = [1, 2, 7, 8]\n",
    "n1 = [3, 4, 6, 7, 9, 9]\n",
    "n2 = [1, 5, 7, 8, 8]"
   ]
  },
  {
   "cell_type": "code",
   "execution_count": 10,
   "id": "496258cc",
   "metadata": {},
   "outputs": [
    {
     "data": {
      "text/plain": [
       "[1, 2, 3, 4, 5, 7, 8]"
      ]
     },
     "execution_count": 10,
     "metadata": {},
     "output_type": "execute_result"
    }
   ],
   "source": [
    "#union of two sorted arrays\n",
    "unionArray(nums1, nums2)"
   ]
  },
  {
   "cell_type": "code",
   "execution_count": 11,
   "id": "40618268",
   "metadata": {},
   "outputs": [
    {
     "data": {
      "text/plain": [
       "[1, 3, 4, 5, 6, 7, 8, 9]"
      ]
     },
     "execution_count": 11,
     "metadata": {},
     "output_type": "execute_result"
    }
   ],
   "source": [
    "unionArray(n1, n2)"
   ]
  }
 ],
 "metadata": {
  "kernelspec": {
   "display_name": "env",
   "language": "python",
   "name": "python3"
  },
  "language_info": {
   "codemirror_mode": {
    "name": "ipython",
    "version": 3
   },
   "file_extension": ".py",
   "mimetype": "text/x-python",
   "name": "python",
   "nbconvert_exporter": "python",
   "pygments_lexer": "ipython3",
   "version": "3.10.12"
  }
 },
 "nbformat": 4,
 "nbformat_minor": 5
}
