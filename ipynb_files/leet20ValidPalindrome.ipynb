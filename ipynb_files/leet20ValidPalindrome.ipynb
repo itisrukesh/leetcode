{
 "cells": [
  {
   "cell_type": "code",
   "execution_count": 57,
   "metadata": {},
   "outputs": [],
   "source": [
    "class Solution:\n",
    "    def isValid(self, s: str) -> bool:\n",
    "        \n",
    "        dicmap = {\")\":\"(\", \"]\":\"[\", \"}\":\"{\"}\n",
    "        stack = []\n",
    "        if len(s) == 1:\n",
    "            return False\n",
    "        \n",
    "        for i in s:\n",
    "            if i not in dicmap:\n",
    "                stack.append(i)\n",
    "            else:\n",
    "                if stack:\n",
    "                    if dicmap[i] in stack[-1]:\n",
    "                        stack.pop()\n",
    "        \n",
    "        if stack: return True \n",
    "        else: False\n",
    "        "
   ]
  },
  {
   "cell_type": "code",
   "execution_count": 58,
   "metadata": {},
   "outputs": [
    {
     "data": {
      "text/plain": [
       "False"
      ]
     },
     "execution_count": 58,
     "metadata": {},
     "output_type": "execute_result"
    }
   ],
   "source": [
    "s = \"]\"\n",
    "sol = Solution()\n",
    "sol.isValid(s)"
   ]
  },
  {
   "cell_type": "code",
   "execution_count": null,
   "metadata": {},
   "outputs": [],
   "source": []
  }
 ],
 "metadata": {
  "kernelspec": {
   "display_name": "Python 3",
   "language": "python",
   "name": "python3"
  },
  "language_info": {
   "codemirror_mode": {
    "name": "ipython",
    "version": 3
   },
   "file_extension": ".py",
   "mimetype": "text/x-python",
   "name": "python",
   "nbconvert_exporter": "python",
   "pygments_lexer": "ipython3",
   "version": "3.11.3"
  }
 },
 "nbformat": 4,
 "nbformat_minor": 2
}
