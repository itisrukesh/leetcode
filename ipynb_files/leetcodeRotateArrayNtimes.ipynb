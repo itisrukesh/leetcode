{
 "cells": [
  {
   "cell_type": "code",
   "execution_count": 60,
   "id": "3676c29f",
   "metadata": {},
   "outputs": [],
   "source": [
    "def RightRotateOnce(nums):\n",
    "    last = nums[len(nums)-1]\n",
    "    j = nums[0]\n",
    "\n",
    "    for i in range(1, len(nums)-1):\n",
    "        currval = nums[i]\n",
    "        nums[i] = j\n",
    "        j = currval\n",
    "\n",
    "    nums[len(nums)-1] = j    \n",
    "    nums[0] = last\n",
    "    \n",
    "def LeftRotateOnce(nums):\n",
    "    first = nums[0]\n",
    "    for i in range(1, len(nums)):\n",
    "        nums[i-1] = nums[i]\n",
    "    nums[len(nums)-1] = first\n",
    "    \n",
    "    "
   ]
  },
  {
   "cell_type": "code",
   "execution_count": 65,
   "id": "affff990",
   "metadata": {},
   "outputs": [],
   "source": [
    "nums = [1,2,3,4,5,6,7]\n",
    "k = 3"
   ]
  },
  {
   "cell_type": "code",
   "execution_count": 62,
   "id": "e1096538",
   "metadata": {},
   "outputs": [
    {
     "name": "stdout",
     "output_type": "stream",
     "text": [
      "[4, 5, 6, 7, 1, 2, 3]\n"
     ]
    }
   ],
   "source": [
    "#brute force approach:\n",
    "for i in range(k):\n",
    "    LeftRotateOnce(nums)\n",
    "print(nums)"
   ]
  },
  {
   "cell_type": "code",
   "execution_count": null,
   "id": "67144085",
   "metadata": {},
   "outputs": [
    {
     "name": "stdout",
     "output_type": "stream",
     "text": [
      "[5, 6, 7, 1, 2, 3, 4]\n"
     ]
    }
   ],
   "source": [
    "#brute force approach:\n",
    "for i in range(k):\n",
    "    RightRotateOnce(nums)\n",
    "print(nums)\n"
   ]
  },
  {
   "cell_type": "code",
   "execution_count": 64,
   "id": "cc2351f0",
   "metadata": {},
   "outputs": [
    {
     "name": "stdout",
     "output_type": "stream",
     "text": [
      "[4, 5, 6, 7, 1, 2, 3]\n"
     ]
    }
   ],
   "source": [
    "# Left rotate: with optimal way - Using reverse func\n",
    "# for left/backward rotation \n",
    "# 1st reverse. part of nums -> [:k]\n",
    "nums[:k] = reversed(nums[:k])\n",
    "# 2nd reverse. part of nums -> [k:]\n",
    "nums[k:] = reversed(nums[k:])\n",
    "# 3rd and last reverse. part of entire nums\n",
    "nums.reverse()\n",
    "print(nums)"
   ]
  },
  {
   "cell_type": "code",
   "execution_count": 66,
   "id": "2fa4933d",
   "metadata": {},
   "outputs": [
    {
     "name": "stdout",
     "output_type": "stream",
     "text": [
      "[5, 6, 7, 1, 2, 3, 4]\n"
     ]
    }
   ],
   "source": [
    "# Right rotate: with optimal way - Using reverse func\n",
    "# for right/forward rotation \n",
    "# 1st reverse. part of entire nums\n",
    "nums.reverse()\n",
    "# 2nd reverse. part of nums -> [:k]\n",
    "nums[:k] = reversed(nums[:k])\n",
    "# 3rd reverse. part of nums -> [k:]\n",
    "nums[k:] = reversed(nums[k:])\n",
    "\n",
    "print(nums)"
   ]
  }
 ],
 "metadata": {
  "kernelspec": {
   "display_name": "env",
   "language": "python",
   "name": "python3"
  },
  "language_info": {
   "codemirror_mode": {
    "name": "ipython",
    "version": 3
   },
   "file_extension": ".py",
   "mimetype": "text/x-python",
   "name": "python",
   "nbconvert_exporter": "python",
   "pygments_lexer": "ipython3",
   "version": "3.10.12"
  }
 },
 "nbformat": 4,
 "nbformat_minor": 5
}
