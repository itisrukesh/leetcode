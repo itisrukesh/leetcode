{
 "cells": [
  {
   "cell_type": "code",
   "execution_count": 1,
   "id": "0b1c6d62",
   "metadata": {},
   "outputs": [],
   "source": [
    "class Solution:\n",
    "    def secondHighest(self, s: str) -> int:\n",
    "        \n",
    "        largest = -1\n",
    "        secondLarge = -1\n",
    "\n",
    "        for i in s:\n",
    "            if i.isdigit():\n",
    "                num = int(i)\n",
    "                if num > largest:\n",
    "                    secondLarge = largest\n",
    "                    largest = num\n",
    "                elif num != largest and num > secondLarge:\n",
    "                    secondLarge = num\n",
    "        \n",
    "        return secondLarge"
   ]
  },
  {
   "cell_type": "code",
   "execution_count": 2,
   "id": "0085000c",
   "metadata": {},
   "outputs": [
    {
     "name": "stdout",
     "output_type": "stream",
     "text": [
      "-1\n",
      "2\n"
     ]
    }
   ],
   "source": [
    "s = \"abc1111\"\n",
    "s1 = \"dfa12321afd\"\n",
    "sol = Solution()\n",
    "print(sol.secondHighest(s))\n",
    "print(sol.secondHighest(s1))"
   ]
  },
  {
   "cell_type": "code",
   "execution_count": null,
   "id": "6f426894",
   "metadata": {},
   "outputs": [],
   "source": []
  }
 ],
 "metadata": {
  "kernelspec": {
   "display_name": "env",
   "language": "python",
   "name": "python3"
  },
  "language_info": {
   "codemirror_mode": {
    "name": "ipython",
    "version": 3
   },
   "file_extension": ".py",
   "mimetype": "text/x-python",
   "name": "python",
   "nbconvert_exporter": "python",
   "pygments_lexer": "ipython3",
   "version": "3.10.12"
  }
 },
 "nbformat": 4,
 "nbformat_minor": 5
}
