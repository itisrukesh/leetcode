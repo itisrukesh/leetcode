{
 "cells": [
  {
   "cell_type": "code",
   "execution_count": null,
   "metadata": {},
   "outputs": [],
   "source": [
    "class Solution(object):\n",
    "    def removeDuplicates(self, nums):\n",
    "        \"\"\"\n",
    "        :type nums: List[int]\n",
    "        :rtype: int\n",
    "        \"\"\"\n",
    "        \n",
    "        i = 0\n",
    "        j = i + 1\n",
    "        while j < len(nums)-1:\n",
    "            if nums[i] != nums[j]:\n",
    "                i, j = i+1, j+1\n",
    "            else:\n",
    "                nums.remove(nums[j])\n",
    "        \n",
    "        return len(nums), nums\n",
    "    \n",
    "    # proper approach optimal one practized on April 10th 2025\n",
    "    def removeDuplicates_2(self, nums):\n",
    "        \"\"\"\n",
    "        :type nums: List[int]\n",
    "        :rtype: int\n",
    "        \"\"\"\n",
    "        n = len(nums) - 1\n",
    "        i = 0\n",
    "        j = 1\n",
    "        while j <= n:\n",
    "            if nums[j] != nums[i]:\n",
    "                nums[i+1] = nums[j]\n",
    "                i+=1\n",
    "            j+=1\n",
    "        \n",
    "        return i+1\n",
    "                \n",
    "                 "
   ]
  },
  {
   "cell_type": "code",
   "execution_count": 61,
   "metadata": {},
   "outputs": [
    {
     "data": {
      "text/plain": [
       "(2, [1, 2])"
      ]
     },
     "execution_count": 61,
     "metadata": {},
     "output_type": "execute_result"
    }
   ],
   "source": [
    "nums = [1,1,2]\n",
    "sol = Solution()\n",
    "sol.removeDuplicates(nums)"
   ]
  },
  {
   "cell_type": "code",
   "execution_count": 5,
   "metadata": {},
   "outputs": [
    {
     "name": "stdout",
     "output_type": "stream",
     "text": [
      "[0, 3, 5, 6, 5, 6]\n"
     ]
    },
    {
     "data": {
      "text/plain": [
       "3"
      ]
     },
     "execution_count": 5,
     "metadata": {},
     "output_type": "execute_result"
    }
   ],
   "source": [
    "def removeDuplicates(arr):\n",
    "    i = 0\n",
    "    for j in range(1,len(arr)):\n",
    "        if arr[j] != arr[i]:\n",
    "            i+=1\n",
    "            arr[i] = arr[j]\n",
    "    \n",
    "    print(arr)\n",
    "    return i\n",
    "    \n",
    "arr = [0, 0, 3, 3, 5, 6]\n",
    "removeDuplicates(arr)"
   ]
  },
  {
   "cell_type": "code",
   "execution_count": null,
   "metadata": {},
   "outputs": [],
   "source": []
  },
  {
   "cell_type": "code",
   "execution_count": null,
   "metadata": {},
   "outputs": [
    {
     "data": {
      "text/plain": [
       "[1, 2, 3, 4, 5, 7, 8]"
      ]
     },
     "execution_count": 8,
     "metadata": {},
     "output_type": "execute_result"
    }
   ],
   "source": []
  },
  {
   "cell_type": "code",
   "execution_count": null,
   "metadata": {},
   "outputs": [],
   "source": []
  }
 ],
 "metadata": {
  "kernelspec": {
   "display_name": "env",
   "language": "python",
   "name": "python3"
  },
  "language_info": {
   "codemirror_mode": {
    "name": "ipython",
    "version": 3
   },
   "file_extension": ".py",
   "mimetype": "text/x-python",
   "name": "python",
   "nbconvert_exporter": "python",
   "pygments_lexer": "ipython3",
   "version": "3.10.12"
  }
 },
 "nbformat": 4,
 "nbformat_minor": 2
}
