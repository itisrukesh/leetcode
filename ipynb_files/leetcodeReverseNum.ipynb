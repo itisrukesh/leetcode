{
 "cells": [
  {
   "cell_type": "code",
   "execution_count": 18,
   "metadata": {},
   "outputs": [
    {
     "data": {
      "text/plain": [
       "-850482"
      ]
     },
     "execution_count": 18,
     "metadata": {},
     "output_type": "execute_result"
    }
   ],
   "source": [
    "class Solution:\n",
    "    def reverse(self, x: int) -> int:\n",
    "        revnum = 0\n",
    "        signed = False\n",
    "        \n",
    "        if x < 0 :\n",
    "            signed = True\n",
    "            num = abs(x)\n",
    "        else: num = x\n",
    "        \n",
    "        while num > 0:\n",
    "            ld = num % 10\n",
    "            revnum = revnum * 10 + ld\n",
    "            num = num // 10\n",
    "            \n",
    "        #edge case:\n",
    "        if (revnum < -2**31) or (revnum > 2**31 - 1):\n",
    "            return 0\n",
    "        \n",
    "        if signed: return -revnum\n",
    "        else: return revnum\n",
    "\n",
    "r = Solution()\n",
    "r.reverse(-284058)"
   ]
  }
 ],
 "metadata": {
  "kernelspec": {
   "display_name": "env",
   "language": "python",
   "name": "python3"
  },
  "language_info": {
   "codemirror_mode": {
    "name": "ipython",
    "version": 3
   },
   "file_extension": ".py",
   "mimetype": "text/x-python",
   "name": "python",
   "nbconvert_exporter": "python",
   "pygments_lexer": "ipython3",
   "version": "3.10.12"
  }
 },
 "nbformat": 4,
 "nbformat_minor": 2
}
